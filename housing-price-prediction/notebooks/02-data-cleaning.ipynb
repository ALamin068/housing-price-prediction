{
 "cells": [
  {
   "cell_type": "markdown",
   "id": "d16d4c9a",
   "metadata": {},
   "source": [
    "# 02 - Data Cleaning\n",
    "This notebook handles missing values and prepares data for feature engineering."
   ]
  },
  {
   "cell_type": "code",
   "execution_count": 9,
   "id": "504c40ab",
   "metadata": {},
   "outputs": [],
   "source": [
    "import pandas as pd\n",
    "import numpy as np\n",
    "import matplotlib.pyplot as plt\n",
    "import seaborn as sns\n",
    "sns.set(style=\"whitegrid\")\n",
    "%matplotlib inline"
   ]
  },
  {
   "cell_type": "code",
   "execution_count": 10,
   "id": "35e72229",
   "metadata": {},
   "outputs": [
    {
     "name": "stdout",
     "output_type": "stream",
     "text": [
      "Shape before cleaning: (1460, 81)\n"
     ]
    }
   ],
   "source": [
    "# Load training data\n",
    "train_df = pd.read_csv(\"/Users/alaminbinshafiq/Desktop/Projects/housing-price-prediction/data/train.csv\")\n",
    "print(f\"Shape before cleaning: {train_df.shape}\")"
   ]
  },
  {
   "cell_type": "code",
   "execution_count": 11,
   "id": "d3c201ea",
   "metadata": {},
   "outputs": [
    {
     "data": {
      "text/plain": [
       "PoolQC          1453\n",
       "MiscFeature     1406\n",
       "Alley           1369\n",
       "Fence           1179\n",
       "MasVnrType       872\n",
       "FireplaceQu      690\n",
       "LotFrontage      259\n",
       "GarageType        81\n",
       "GarageYrBlt       81\n",
       "GarageFinish      81\n",
       "GarageQual        81\n",
       "GarageCond        81\n",
       "BsmtExposure      38\n",
       "BsmtFinType2      38\n",
       "BsmtQual          37\n",
       "BsmtCond          37\n",
       "BsmtFinType1      37\n",
       "MasVnrArea         8\n",
       "Electrical         1\n",
       "dtype: int64"
      ]
     },
     "execution_count": 11,
     "metadata": {},
     "output_type": "execute_result"
    }
   ],
   "source": [
    "# Check total missing values again\n",
    "missing_values = train_df.isnull().sum()\n",
    "missing_values = missing_values[missing_values > 0].sort_values(ascending=False)\n",
    "missing_values"
   ]
  },
  {
   "cell_type": "code",
   "execution_count": 12,
   "id": "3b2e59da",
   "metadata": {},
   "outputs": [
    {
     "name": "stdout",
     "output_type": "stream",
     "text": [
      "Dropped columns: ['PoolQC', 'MiscFeature', 'Alley', 'Fence']\n",
      "Shape after dropping: (1460, 77)\n"
     ]
    }
   ],
   "source": [
    "# Drop columns with too many missing values (threshold = 80%)\n",
    "threshold = 0.8 * train_df.shape[0]\n",
    "cols_to_drop = missing_values[missing_values > threshold].index\n",
    "train_df.drop(columns=cols_to_drop, inplace=True)\n",
    "print(f\"Dropped columns: {list(cols_to_drop)}\")\n",
    "print(f\"Shape after dropping: {train_df.shape}\")"
   ]
  },
  {
   "cell_type": "code",
   "execution_count": 13,
   "id": "9c5c3dfc",
   "metadata": {},
   "outputs": [],
   "source": [
    "# Fill missing numerical columns with median\n",
    "num_cols = train_df.select_dtypes(include=[np.number]).columns\n",
    "for col in num_cols:\n",
    "    if train_df[col].isnull().sum() > 0:\n",
    "        train_df[col].fillna(train_df[col].median())"
   ]
  },
  {
   "cell_type": "code",
   "execution_count": 14,
   "id": "78501658",
   "metadata": {},
   "outputs": [],
   "source": [
    "# Fill missing categorical columns with mode\n",
    "cat_cols = train_df.select_dtypes(include=['object']).columns\n",
    "for col in cat_cols:\n",
    "    if train_df[col].isnull().sum() > 0:\n",
    "        train_df[col].fillna(train_df[col].mode()[0])"
   ]
  },
  {
   "cell_type": "code",
   "execution_count": 15,
   "id": "d13d1db8",
   "metadata": {},
   "outputs": [
    {
     "data": {
      "text/plain": [
       "np.int64(2422)"
      ]
     },
     "execution_count": 15,
     "metadata": {},
     "output_type": "execute_result"
    }
   ],
   "source": [
    "# Final check for any remaining missing values\n",
    "train_df.isnull().sum().sum()"
   ]
  },
  {
   "cell_type": "code",
   "execution_count": 16,
   "id": "5d8fc592",
   "metadata": {},
   "outputs": [
    {
     "name": "stdout",
     "output_type": "stream",
     "text": [
      "Cleaned dataset saved.\n"
     ]
    }
   ],
   "source": [
    "# Save cleaned data to use in next step\n",
    "train_df.to_csv(\"/Users/alaminbinshafiq/Desktop/Projects/housing-price-prediction/data/train_cleaned.csv\", index=False)\n",
    "print(\"Cleaned dataset saved.\")"
   ]
  },
  {
   "cell_type": "code",
   "execution_count": null,
   "id": "b4f3dc85-b4af-4b0e-8e43-037651fc852c",
   "metadata": {},
   "outputs": [],
   "source": []
  },
  {
   "cell_type": "code",
   "execution_count": null,
   "id": "11c3b3bd-8845-4067-87bf-45f13772c299",
   "metadata": {},
   "outputs": [],
   "source": []
  },
  {
   "cell_type": "code",
   "execution_count": null,
   "id": "5e642156-34f8-4eb1-b2b6-d7a555ccde2a",
   "metadata": {},
   "outputs": [],
   "source": []
  }
 ],
 "metadata": {
  "kernelspec": {
   "display_name": "Python 3 (ipykernel)",
   "language": "python",
   "name": "python3"
  },
  "language_info": {
   "codemirror_mode": {
    "name": "ipython",
    "version": 3
   },
   "file_extension": ".py",
   "mimetype": "text/x-python",
   "name": "python",
   "nbconvert_exporter": "python",
   "pygments_lexer": "ipython3",
   "version": "3.12.11"
  }
 },
 "nbformat": 4,
 "nbformat_minor": 5
}
