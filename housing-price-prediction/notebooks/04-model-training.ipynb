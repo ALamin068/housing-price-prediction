{
 "cells": [
  {
   "cell_type": "markdown",
   "id": "7ac59da8",
   "metadata": {},
   "source": [
    "# 04 - Model Training\n",
    "This notebook trains regression models and evaluates performance on validation data."
   ]
  },
  {
   "cell_type": "code",
   "execution_count": 31,
   "id": "7a1ae1d4",
   "metadata": {},
   "outputs": [],
   "source": [
    "import numpy as np\n",
    "import pandas as pd\n",
    "from sklearn.linear_model import LinearRegression\n",
    "from sklearn.ensemble import RandomForestRegressor\n",
    "from xgboost import XGBRegressor\n",
    "from sklearn.metrics import mean_squared_error, r2_score\n",
    "import matplotlib.pyplot as plt\n",
    "%matplotlib inline"
   ]
  },
  {
   "cell_type": "code",
   "execution_count": 32,
   "id": "a6ed5c15",
   "metadata": {},
   "outputs": [],
   "source": [
    "# Load processed features and targets\n",
    "X_train = np.load(\"/Users/alaminbinshafiq/Desktop/Projects/housing-price-prediction/data/X_train.npy\")\n",
    "X_val = np.load(\"/Users/alaminbinshafiq/Desktop/Projects/housing-price-prediction/data/X_val.npy\")\n",
    "y_train = pd.read_csv(\"/Users/alaminbinshafiq/Desktop/Projects/housing-price-prediction/data/y_train.csv\").values.ravel()\n",
    "y_val = pd.read_csv(\"/Users/alaminbinshafiq/Desktop/Projects/housing-price-prediction/data/y_val.csv\").values.ravel()"
   ]
  },
  {
   "cell_type": "code",
   "execution_count": 33,
   "id": "955f57e4",
   "metadata": {},
   "outputs": [],
   "source": [
    "# Train Linear Regression\n",
    "lr_model = LinearRegression()\n",
    "lr_model.fit(X_train, y_train)\n",
    "lr_preds = lr_model.predict(X_val)"
   ]
  },
  {
   "cell_type": "code",
   "execution_count": 34,
   "id": "6107e0e8",
   "metadata": {},
   "outputs": [],
   "source": [
    "# Train Random Forest\n",
    "rf_model = RandomForestRegressor(n_estimators=100, random_state=42)\n",
    "rf_model.fit(X_train, y_train)\n",
    "rf_preds = rf_model.predict(X_val)"
   ]
  },
  {
   "cell_type": "code",
   "execution_count": 35,
   "id": "8ec436a9",
   "metadata": {},
   "outputs": [],
   "source": [
    "# Train XGBoost\n",
    "xgb_model = XGBRegressor(n_estimators=100, learning_rate=0.1, random_state=42)\n",
    "xgb_model.fit(X_train, y_train)\n",
    "xgb_preds = xgb_model.predict(X_val)"
   ]
  },
  {
   "cell_type": "code",
   "execution_count": 36,
   "id": "9fcf54c9",
   "metadata": {},
   "outputs": [],
   "source": [
    "# Evaluation Function\n",
    "def evaluate_model(name, y_true, y_pred):\n",
    "    rmse = mean_squared_error(y_true, y_pred)\n",
    "    r2 = r2_score(y_true, y_pred)\n",
    "    print(f\"{name} RMSE: {rmse:.2f}\")\n",
    "    print(f\"{name} R^2 Score: {r2:.2f}\\n\")\n",
    "    return rmse, r2"
   ]
  },
  {
   "cell_type": "code",
   "execution_count": 37,
   "id": "70a67fab",
   "metadata": {},
   "outputs": [
    {
     "name": "stdout",
     "output_type": "stream",
     "text": [
      "Linear Regression RMSE: 886560482.18\n",
      "Linear Regression R^2 Score: 0.88\n",
      "\n",
      "Random Forest RMSE: 864614578.20\n",
      "Random Forest R^2 Score: 0.89\n",
      "\n",
      "XGBoost RMSE: 631114048.00\n",
      "XGBoost R^2 Score: 0.92\n",
      "\n"
     ]
    },
    {
     "data": {
      "text/plain": [
       "(631114048.0, 0.9177200794219971)"
      ]
     },
     "execution_count": 37,
     "metadata": {},
     "output_type": "execute_result"
    }
   ],
   "source": [
    "# Evaluate All Models\n",
    "evaluate_model(\"Linear Regression\", y_val, lr_preds)\n",
    "evaluate_model(\"Random Forest\", y_val, rf_preds)\n",
    "evaluate_model(\"XGBoost\", y_val, xgb_preds)"
   ]
  },
  {
   "cell_type": "code",
   "execution_count": null,
   "id": "334a84b1-c247-4c61-848d-e13f42fad0e8",
   "metadata": {},
   "outputs": [],
   "source": []
  },
  {
   "cell_type": "code",
   "execution_count": null,
   "id": "f4465458-cfef-4f31-b6c5-31e43e1a6b56",
   "metadata": {},
   "outputs": [],
   "source": []
  }
 ],
 "metadata": {
  "kernelspec": {
   "display_name": "Python 3 (ipykernel)",
   "language": "python",
   "name": "python3"
  },
  "language_info": {
   "codemirror_mode": {
    "name": "ipython",
    "version": 3
   },
   "file_extension": ".py",
   "mimetype": "text/x-python",
   "name": "python",
   "nbconvert_exporter": "python",
   "pygments_lexer": "ipython3",
   "version": "3.12.11"
  }
 },
 "nbformat": 4,
 "nbformat_minor": 5
}
