{
 "cells": [
  {
   "cell_type": "markdown",
   "id": "bf026729",
   "metadata": {},
   "source": [
    "# 03 - Feature Engineering\n",
    "This notebook encodes categorical features, scales numerical ones, and prepares data for model training."
   ]
  },
  {
   "cell_type": "code",
   "execution_count": 25,
   "id": "ca58d897",
   "metadata": {},
   "outputs": [],
   "source": [
    "import pandas as pd\n",
    "import numpy as np\n",
    "from sklearn.preprocessing import StandardScaler, OneHotEncoder\n",
    "from sklearn.compose import ColumnTransformer\n",
    "from sklearn.pipeline import Pipeline\n",
    "from sklearn.model_selection import train_test_split\n",
    "import matplotlib.pyplot as plt\n",
    "import seaborn as sns\n",
    "from sklearn.impute import SimpleImputer\n",
    "sns.set(style='whitegrid')\n",
    "%matplotlib inline"
   ]
  },
  {
   "cell_type": "code",
   "execution_count": 26,
   "id": "bf80e380",
   "metadata": {},
   "outputs": [
    {
     "data": {
      "text/plain": [
       "(1460, 77)"
      ]
     },
     "execution_count": 26,
     "metadata": {},
     "output_type": "execute_result"
    }
   ],
   "source": [
    "# Load cleaned data\n",
    "df = pd.read_csv(\"/Users/alaminbinshafiq/Desktop/Projects/housing-price-prediction/data/train_cleaned.csv\")\n",
    "df.shape"
   ]
  },
  {
   "cell_type": "code",
   "execution_count": 40,
   "id": "3520c0ce-62ba-42d8-a850-f22e9177db26",
   "metadata": {},
   "outputs": [],
   "source": [
    "# REMOVE ID if it exists in training data\n",
    "if 'Id' in df.columns:\n",
    "    df = df.drop(columns=['Id'])\n"
   ]
  },
  {
   "cell_type": "code",
   "execution_count": 41,
   "id": "8469b5f6",
   "metadata": {},
   "outputs": [],
   "source": [
    "# Separate features and target\n",
    "X = df.drop(columns=['SalePrice'])\n",
    "y = df['SalePrice']"
   ]
  },
  {
   "cell_type": "code",
   "execution_count": 35,
   "id": "05819fac",
   "metadata": {},
   "outputs": [
    {
     "name": "stdout",
     "output_type": "stream",
     "text": [
      "Numerical: 36 columns\n",
      "Categorical: 39 columns\n"
     ]
    }
   ],
   "source": [
    "# Identify categorical and numerical columns\n",
    "num_cols = X.select_dtypes(include=[np.number]).columns.tolist()\n",
    "cat_cols = X.select_dtypes(include=['object']).columns.tolist()\n",
    "print(f\"Numerical: {len(num_cols)} columns\")\n",
    "print(f\"Categorical: {len(cat_cols)} columns\")"
   ]
  },
  {
   "cell_type": "code",
   "execution_count": 36,
   "id": "245d5de6",
   "metadata": {},
   "outputs": [
    {
     "data": {
      "text/plain": [
       "((1168, 75), (292, 75))"
      ]
     },
     "execution_count": 36,
     "metadata": {},
     "output_type": "execute_result"
    }
   ],
   "source": [
    "# Split data\n",
    "X_train, X_val, y_train, y_val = train_test_split(X, y, test_size=0.2, random_state=42)\n",
    "X_train.shape, X_val.shape"
   ]
  },
  {
   "cell_type": "code",
   "execution_count": 37,
   "id": "05f599d3",
   "metadata": {},
   "outputs": [],
   "source": [
    "# Preprocessing pipeline\n",
    "numeric_transformer = Pipeline(steps=[\n",
    "    ('imputer', SimpleImputer(strategy='median')),\n",
    "    ('scaler', StandardScaler())\n",
    "])\n",
    "\n",
    "categorical_transformer = Pipeline(steps=[\n",
    "    ('imputer', SimpleImputer(strategy='most_frequent')),\n",
    "    ('encoder', OneHotEncoder(handle_unknown='ignore', sparse_output=False))\n",
    "])\n",
    "\n",
    "preprocessor = ColumnTransformer(\n",
    "    transformers=[\n",
    "        ('num', numeric_transformer, num_cols),\n",
    "        ('cat', categorical_transformer, cat_cols)\n",
    "    ]\n",
    ")"
   ]
  },
  {
   "cell_type": "code",
   "execution_count": 42,
   "id": "f027e569-e372-4e4d-b1b5-fd5e49602adf",
   "metadata": {},
   "outputs": [
    {
     "data": {
      "text/plain": [
       "['/Users/alaminbinshafiq/Desktop/Projects/housing-price-prediction/model/preprocessor.pkl']"
      ]
     },
     "execution_count": 42,
     "metadata": {},
     "output_type": "execute_result"
    }
   ],
   "source": [
    "preprocessor.fit(X_train)\n",
    "\n",
    "# SAVE updated preprocessor\n",
    "import joblib\n",
    "joblib.dump(preprocessor, \"/Users/alaminbinshafiq/Desktop/Projects/housing-price-prediction/model/preprocessor.pkl\")\n"
   ]
  },
  {
   "cell_type": "code",
   "execution_count": 38,
   "id": "4700d5fc",
   "metadata": {},
   "outputs": [
    {
     "data": {
      "text/plain": [
       "((1168, 272), (292, 272))"
      ]
     },
     "execution_count": 38,
     "metadata": {},
     "output_type": "execute_result"
    }
   ],
   "source": [
    "# Fit and transform training data\n",
    "X_train_processed = preprocessor.fit_transform(X_train)\n",
    "X_val_processed = preprocessor.transform(X_val)\n",
    "X_train_processed.shape, X_val_processed.shape"
   ]
  },
  {
   "cell_type": "code",
   "execution_count": 39,
   "id": "f9f6820a",
   "metadata": {},
   "outputs": [
    {
     "name": "stdout",
     "output_type": "stream",
     "text": [
      "Processed data saved.\n"
     ]
    }
   ],
   "source": [
    "# Save processed data for model training\n",
    "np.save(\"/Users/alaminbinshafiq/Desktop/Projects/housing-price-prediction/data/X_train.npy\", X_train_processed)\n",
    "np.save(\"/Users/alaminbinshafiq/Desktop/Projects/housing-price-prediction/data/X_val.npy\", X_val_processed)\n",
    "y_train.to_csv(\"/Users/alaminbinshafiq/Desktop/Projects/housing-price-prediction/data/y_train.csv\", index=False)\n",
    "y_val.to_csv(\"/Users/alaminbinshafiq/Desktop/Projects/housing-price-prediction/data/y_val.csv\", index=False)\n",
    "print(\"Processed data saved.\")"
   ]
  },
  {
   "cell_type": "code",
   "execution_count": 33,
   "id": "c931d1d4-6293-47c9-9069-fa25349d88a7",
   "metadata": {},
   "outputs": [
    {
     "data": {
      "text/plain": [
       "['/Users/alaminbinshafiq/Desktop/Projects/housing-price-prediction/model/preprocessor.pkl']"
      ]
     },
     "execution_count": 33,
     "metadata": {},
     "output_type": "execute_result"
    }
   ],
   "source": [
    "import joblib\n",
    "joblib.dump(preprocessor, \"/Users/alaminbinshafiq/Desktop/Projects/housing-price-prediction/model/preprocessor.pkl\")\n"
   ]
  },
  {
   "cell_type": "code",
   "execution_count": 43,
   "id": "7ec166fc-a2d6-49dd-9e77-8f66e45cb08b",
   "metadata": {},
   "outputs": [
    {
     "data": {
      "text/plain": [
       "['/Users/alaminbinshafiq/Desktop/Projects/housing-price-prediction/model/preprocessor.pkl']"
      ]
     },
     "execution_count": 43,
     "metadata": {},
     "output_type": "execute_result"
    }
   ],
   "source": [
    "from sklearn.impute import SimpleImputer\n",
    "from sklearn.preprocessing import StandardScaler, OneHotEncoder\n",
    "from sklearn.compose import ColumnTransformer\n",
    "from sklearn.pipeline import Pipeline\n",
    "\n",
    "numeric_transformer = Pipeline(steps=[\n",
    "    ('imputer', SimpleImputer(strategy='median')),\n",
    "    ('scaler', StandardScaler())\n",
    "])\n",
    "\n",
    "categorical_transformer = Pipeline(steps=[\n",
    "    ('imputer', SimpleImputer(strategy='most_frequent')),\n",
    "    ('encoder', OneHotEncoder(handle_unknown='ignore', sparse_output=False))  # 🔥 this is the key\n",
    "])\n",
    "\n",
    "preprocessor = ColumnTransformer(\n",
    "    transformers=[\n",
    "        ('num', numeric_transformer, num_cols),\n",
    "        ('cat', categorical_transformer, cat_cols)\n",
    "    ]\n",
    ")\n",
    "\n",
    "# ⛔ DO NOT refit in 05-submission notebook later\n",
    "preprocessor.fit(X_train)\n",
    "\n",
    "import joblib\n",
    "joblib.dump(preprocessor, \"/Users/alaminbinshafiq/Desktop/Projects/housing-price-prediction/model/preprocessor.pkl\")\n"
   ]
  },
  {
   "cell_type": "code",
   "execution_count": null,
   "id": "dc8508b3-f4e8-4907-8787-4c6aa431d41d",
   "metadata": {},
   "outputs": [],
   "source": []
  },
  {
   "cell_type": "code",
   "execution_count": null,
   "id": "1f42978c-75c9-440f-8047-55f45699e748",
   "metadata": {},
   "outputs": [],
   "source": []
  }
 ],
 "metadata": {
  "kernelspec": {
   "display_name": "Python 3 (ipykernel)",
   "language": "python",
   "name": "python3"
  },
  "language_info": {
   "codemirror_mode": {
    "name": "ipython",
    "version": 3
   },
   "file_extension": ".py",
   "mimetype": "text/x-python",
   "name": "python",
   "nbconvert_exporter": "python",
   "pygments_lexer": "ipython3",
   "version": "3.12.11"
  }
 },
 "nbformat": 4,
 "nbformat_minor": 5
}
